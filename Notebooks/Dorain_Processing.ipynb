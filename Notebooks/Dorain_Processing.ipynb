{
 "cells": [
  {
   "cell_type": "code",
   "execution_count": 1,
   "metadata": {},
   "outputs": [
    {
     "data": {
      "text/html": [
       "<style>.container { width:100% !important; }</style>"
      ],
      "text/plain": [
       "<IPython.core.display.HTML object>"
      ]
     },
     "metadata": {},
     "output_type": "display_data"
    },
    {
     "name": "stderr",
     "output_type": "stream",
     "text": [
      "C:\\Users\\bvano\\Anaconda3\\envs\\glmval\\lib\\importlib\\_bootstrap.py:219: RuntimeWarning: numpy.ufunc size changed, may indicate binary incompatibility. Expected 192 from C header, got 216 from PyObject\n",
      "  return f(*args, **kwds)\n"
     ]
    },
    {
     "data": {
      "text/html": [
       "<style>.container { width:100% !important; }</style>"
      ],
      "text/plain": [
       "<IPython.core.display.HTML object>"
      ]
     },
     "metadata": {},
     "output_type": "display_data"
    }
   ],
   "source": [
    "from IPython.core.display import display, HTML\n",
    "display(HTML(\"<style>.container { width:100% !important; }</style>\")) # makes the notebook fill the whole window\n",
    "\n",
    "import matplotlib.pyplot as plt\n",
    "import numpy as np\n",
    "import xarray as xr\n",
    "import matplotlib as mpl\n",
    "from matplotlib import pyplot as plt\n",
    "import matplotlib.patches as patches\n",
    "from matplotlib import ticker\n",
    "import datetime\n",
    "import os\n",
    "import re\n",
    "import pandas as pd\n",
    "import shutil\n",
    "import pycubicspline\n",
    "import smtplib, ssl\n",
    "import time\n",
    "\n",
    "from sklearn.preprocessing import MinMaxScaler\n",
    "from sklearn.cluster import DBSCAN\n",
    "\n",
    "from mpl_toolkits.basemap import Basemap\n",
    "import matplotlib.image as mpimg\n",
    "\n",
    "from glmtools.io.glm import GLMDataset\n",
    "\n",
    "import haversine\n",
    "\n",
    "from squeemtools.math import FCM\n",
    "from squeemtools.other import EmailDone\n",
    "import BetterMap as BM\n",
    "import storm_centered_coords as scc\n",
    "\n",
    "import warnings\n",
    "warnings.filterwarnings(\"ignore\")\n",
    "\n",
    "#Turn off interactive plotting for pyplot\n",
    "plt.ioff()"
   ]
  },
  {
   "cell_type": "code",
   "execution_count": 2,
   "metadata": {},
   "outputs": [
    {
     "name": "stdout",
     "output_type": "stream",
     "text": [
      "99.9369085173501554\r"
     ]
    }
   ],
   "source": [
    "data = xr.open_dataset('./Data/Hurricane_Laura.nc')\n",
    "laura = data.to_dataframe()\n",
    "del data\n",
    "\n",
    "laura_center = pd.read_csv(\"./ATL_20_13_Laura_Reduced_Trackfile_Spline.csv\")\n",
    "laura_center['Date'] = laura_center['Date'].apply(pd.to_datetime)\n",
    "\n",
    "dates = [pd.to_datetime(date) for date in laura_center['Date'].values]\n",
    "\n",
    "points = []\n",
    "total_data = []\n",
    "for index,date in enumerate(dates):\n",
    "    subset = laura[(laura['group_time_offset'] >= date) & (laura['group_time_offset'] < date + datetime.timedelta(minutes=10))]\n",
    "    center_long, center_lat = laura_center[laura_center['Date'] == date][[\"Long\",\"Lat\"]].values.flatten()\n",
    "\n",
    "    data = subset[(subset['group_lat'] < center_lat + 5) & (subset['group_lat'] > center_lat - 5) & (subset['group_lon'] < center_long + 5) & (subset['group_lon'] > center_long - 5)]\n",
    "    if(len(data) != 0):\n",
    "        total_data.append(data['group_id'].values)\n",
    "#     for point in subset.values:\n",
    "#         pt = point[-2:]\n",
    "#         dist = haversine.haversine(pt,(center_lat,center_long))\n",
    "#         if dist <= 500:\n",
    "#             points.append(point)\n",
    "    print(f\"{(index + 1) / len(dates) * 100 : .2f}\",end='\\r')\n",
    "    \n",
    "ids = np.concatenate(np.array(total_data).flatten())\n",
    "data = laura[laura['group_id'].isin(ids)].to_xarray()\n",
    "data.to_netcdf('./Processed_Laura.nc')"
   ]
  },
  {
   "cell_type": "code",
   "execution_count": 15,
   "metadata": {},
   "outputs": [],
   "source": [
    "data = xr.open_dataset('./Hurricane_Dorian.nc')\n",
    "dorian = data.to_dataframe()\n",
    "del data\n",
    "\n",
    "dorian_center = pd.read_csv('./ATL_19_5_Dorian_Cubic_Spline_Trackfile.csv')\n",
    "dorian_center['Date'] = dorian_center['Date'].apply(pd.to_datetime)\n",
    "\n",
    "dates = [pd.to_datetime(date) for date in dorian_center['Date'].values]"
   ]
  },
  {
   "cell_type": "code",
   "execution_count": 27,
   "metadata": {},
   "outputs": [],
   "source": [
    "points = []\n",
    "total_data = []\n",
    "for index,date in enumerate(dates):\n",
    "    subset = dorian[(dorian['group_time_offset'] >= date) & (dorian['group_time_offset'] < date + datetime.timedelta(minutes=10))]\n",
    "    center_long, center_lat = dorian_center[dorian_center['Date'] == date][[\"Long\",\"Lat\"]].values.flatten()\n",
    "\n",
    "    data = subset[(subset['group_lat'] < center_lat + 5) & (subset['group_lat'] > center_lat - 5) & (subset['group_lon'] < center_long + 5) & (subset['group_lon'] > center_long - 5)]\n",
    "    if(len(data) != 0):\n",
    "        total_data.append(data['group_id'].values)\n",
    "#     for point in subset.values:\n",
    "#         pt = point[-2:]\n",
    "#         dist = haversine.haversine(pt,(center_lat,center_long))\n",
    "#         if dist <= 500:\n",
    "#             points.append(point)\n",
    "    break\n",
    "    print(date,end='\\r')"
   ]
  },
  {
   "cell_type": "code",
   "execution_count": 40,
   "metadata": {},
   "outputs": [],
   "source": [
    "ids = np.concatenate(np.array(total_data).flatten())\n",
    "\n",
    "data = dorian[dorian['group_id'].isin(ids)].to_xarray()\n",
    "\n",
    "data.to_netcdf('./Processed_Dorian.nc')"
   ]
  },
  {
   "cell_type": "code",
   "execution_count": 240,
   "metadata": {},
   "outputs": [],
   "source": [
    "dorian_processed = xr.open_dataset('./Processed_Dorian.nc')\n",
    "dp = dorian_processed.to_dataframe()\n",
    "\n",
    "dorian_center = pd.read_csv('./ATL_19_5_Dorian_Cubic_Spline_Trackfile.csv')\n",
    "dorian_center['Date'] = dorian_center['Date'].apply(pd.to_datetime)\n",
    "dates = [pd.to_datetime(date) for date in dorian_center['Date'].values]"
   ]
  },
  {
   "cell_type": "code",
   "execution_count": 285,
   "metadata": {
    "scrolled": false
   },
   "outputs": [
    {
     "name": "stdout",
     "output_type": "stream",
     "text": [
      "Percent Done:  11.03%\tTime taken:  1.43 seconds\tEst time remaining: 0:53:38.257746 009\r"
     ]
    },
    {
     "ename": "KeyboardInterrupt",
     "evalue": "",
     "output_type": "error",
     "traceback": [
      "\u001b[1;31m---------------------------------------------------------------------------\u001b[0m",
      "\u001b[1;31mKeyboardInterrupt\u001b[0m                         Traceback (most recent call last)",
      "\u001b[1;32m<ipython-input-285-d054160d177f>\u001b[0m in \u001b[0;36m<module>\u001b[1;34m\u001b[0m\n\u001b[0;32m     24\u001b[0m \u001b[1;33m\u001b[0m\u001b[0m\n\u001b[0;32m     25\u001b[0m     \u001b[0mfig\u001b[0m\u001b[1;33m,\u001b[0m \u001b[0max\u001b[0m \u001b[1;33m=\u001b[0m \u001b[0mplt\u001b[0m\u001b[1;33m.\u001b[0m\u001b[0msubplots\u001b[0m\u001b[1;33m(\u001b[0m\u001b[0mfigsize\u001b[0m\u001b[1;33m=\u001b[0m\u001b[1;33m(\u001b[0m\u001b[1;36m30\u001b[0m\u001b[1;33m,\u001b[0m\u001b[1;36m15\u001b[0m\u001b[1;33m)\u001b[0m\u001b[1;33m)\u001b[0m\u001b[1;33m\u001b[0m\u001b[1;33m\u001b[0m\u001b[0m\n\u001b[1;32m---> 26\u001b[1;33m     \u001b[0mm\u001b[0m \u001b[1;33m=\u001b[0m \u001b[0mBasemap\u001b[0m\u001b[1;33m(\u001b[0m\u001b[1;33m)\u001b[0m\u001b[1;33m\u001b[0m\u001b[1;33m\u001b[0m\u001b[0m\n\u001b[0m\u001b[0;32m     27\u001b[0m     \u001b[0mm\u001b[0m\u001b[1;33m.\u001b[0m\u001b[0mreadshapefile\u001b[0m\u001b[1;33m(\u001b[0m\u001b[0mshp_file\u001b[0m\u001b[1;33m,\u001b[0m \u001b[1;34m'world'\u001b[0m\u001b[1;33m,\u001b[0m\u001b[0mlinewidth\u001b[0m\u001b[1;33m=\u001b[0m\u001b[1;36m1\u001b[0m\u001b[1;33m)\u001b[0m\u001b[1;33m\u001b[0m\u001b[1;33m\u001b[0m\u001b[0m\n\u001b[0;32m     28\u001b[0m \u001b[1;33m\u001b[0m\u001b[0m\n",
      "\u001b[1;32m~\\Anaconda3\\envs\\glmval\\lib\\site-packages\\mpl_toolkits\\basemap\\__init__.py\u001b[0m in \u001b[0;36m__init__\u001b[1;34m(self, llcrnrlon, llcrnrlat, urcrnrlon, urcrnrlat, llcrnrx, llcrnry, urcrnrx, urcrnry, width, height, projection, resolution, area_thresh, rsphere, ellps, lat_ts, lat_1, lat_2, lat_0, lon_0, lon_1, lon_2, o_lon_p, o_lat_p, k_0, no_rot, suppress_ticks, satellite_height, boundinglat, fix_aspect, anchor, celestial, round, epsg, ax)\u001b[0m\n\u001b[0;32m   1128\u001b[0m             \u001b[1;31m# replace coastsegs with line segments (instead of polygons)\u001b[0m\u001b[1;33m\u001b[0m\u001b[1;33m\u001b[0m\u001b[1;33m\u001b[0m\u001b[0m\n\u001b[0;32m   1129\u001b[0m             \u001b[0mself\u001b[0m\u001b[1;33m.\u001b[0m\u001b[0mcoastsegs\u001b[0m\u001b[1;33m,\u001b[0m \u001b[0mtypes\u001b[0m \u001b[1;33m=\u001b[0m\u001b[0;31m\\\u001b[0m\u001b[1;33m\u001b[0m\u001b[1;33m\u001b[0m\u001b[0m\n\u001b[1;32m-> 1130\u001b[1;33m             \u001b[0mself\u001b[0m\u001b[1;33m.\u001b[0m\u001b[0m_readboundarydata\u001b[0m\u001b[1;33m(\u001b[0m\u001b[1;34m'gshhs'\u001b[0m\u001b[1;33m,\u001b[0m\u001b[0mas_polygons\u001b[0m\u001b[1;33m=\u001b[0m\u001b[1;32mFalse\u001b[0m\u001b[1;33m)\u001b[0m\u001b[1;33m\u001b[0m\u001b[1;33m\u001b[0m\u001b[0m\n\u001b[0m\u001b[0;32m   1131\u001b[0m         \u001b[1;31m# create geos Polygon structures for land areas.\u001b[0m\u001b[1;33m\u001b[0m\u001b[1;33m\u001b[0m\u001b[1;33m\u001b[0m\u001b[0m\n\u001b[0;32m   1132\u001b[0m         \u001b[1;31m# currently only used in is_land method.\u001b[0m\u001b[1;33m\u001b[0m\u001b[1;33m\u001b[0m\u001b[1;33m\u001b[0m\u001b[0m\n",
      "\u001b[1;32m~\\Anaconda3\\envs\\glmval\\lib\\site-packages\\mpl_toolkits\\basemap\\__init__.py\u001b[0m in \u001b[0;36m_readboundarydata\u001b[1;34m(self, name, as_polygons)\u001b[0m\n\u001b[0;32m   1313\u001b[0m                 \u001b[0mb\u001b[0m \u001b[1;33m=\u001b[0m \u001b[0mnp\u001b[0m\u001b[1;33m.\u001b[0m\u001b[0marray\u001b[0m\u001b[1;33m(\u001b[0m\u001b[0mnp\u001b[0m\u001b[1;33m.\u001b[0m\u001b[0mfrombuffer\u001b[0m\u001b[1;33m(\u001b[0m\u001b[0mpolystring\u001b[0m\u001b[1;33m,\u001b[0m\u001b[0mdtype\u001b[0m\u001b[1;33m=\u001b[0m\u001b[1;34m'<f4'\u001b[0m\u001b[1;33m)\u001b[0m\u001b[1;33m,\u001b[0m\u001b[1;34m'f8'\u001b[0m\u001b[1;33m)\u001b[0m\u001b[1;33m\u001b[0m\u001b[1;33m\u001b[0m\u001b[0m\n\u001b[0;32m   1314\u001b[0m                 \u001b[0mb\u001b[0m\u001b[1;33m.\u001b[0m\u001b[0mshape\u001b[0m \u001b[1;33m=\u001b[0m \u001b[1;33m(\u001b[0m\u001b[0mnpts\u001b[0m\u001b[1;33m,\u001b[0m\u001b[1;36m2\u001b[0m\u001b[1;33m)\u001b[0m\u001b[1;33m\u001b[0m\u001b[1;33m\u001b[0m\u001b[0m\n\u001b[1;32m-> 1315\u001b[1;33m                 \u001b[0mb2\u001b[0m \u001b[1;33m=\u001b[0m \u001b[0mb\u001b[0m\u001b[1;33m.\u001b[0m\u001b[0mcopy\u001b[0m\u001b[1;33m(\u001b[0m\u001b[1;33m)\u001b[0m\u001b[1;33m\u001b[0m\u001b[1;33m\u001b[0m\u001b[0m\n\u001b[0m\u001b[0;32m   1316\u001b[0m                 \u001b[1;31m# merge polygons that cross dateline.\u001b[0m\u001b[1;33m\u001b[0m\u001b[1;33m\u001b[0m\u001b[1;33m\u001b[0m\u001b[0m\n\u001b[0;32m   1317\u001b[0m                 \u001b[0mpoly\u001b[0m \u001b[1;33m=\u001b[0m \u001b[0mShape\u001b[0m\u001b[1;33m(\u001b[0m\u001b[0mb\u001b[0m\u001b[1;33m)\u001b[0m\u001b[1;33m\u001b[0m\u001b[1;33m\u001b[0m\u001b[0m\n",
      "\u001b[1;31mKeyboardInterrupt\u001b[0m: "
     ]
    }
   ],
   "source": [
    "# Map boundaries\n",
    "buffer = 7.5\n",
    "shp_file = \"./ne_10m_coastline/ne_10m_coastline\"\n",
    "cmap = 'gist_ncar'\n",
    "centers = pd.DataFrame([(np.random.uniform(-180,180),np.random.uniform(-90,90)) for _ in range(50)])\n",
    "\n",
    "for index,date in enumerate(dates):\n",
    "    starttime = time.perf_counter()\n",
    "    subset = dp[(dp['group_time_offset'] >= date) & (dp['group_time_offset'] < date + datetime.timedelta(minutes=10))].copy()\n",
    "    center = dorian_center[dorian_center['Date'] == date]\n",
    "    \n",
    "    if len(subset) != 0:\n",
    "        dbscan = DBSCAN(eps=.12,min_samples=2)\n",
    "        subset['labels'] = dbscan.fit_predict(subset[['group_lon','group_lat']])\n",
    "        subset['labels'] = subset.apply(relabel,axis=1,past_centers=centers.values)\n",
    "        centers = subset.groupby('labels').mean()[['group_lon','group_lat']]\n",
    "    else:\n",
    "        centers = pd.DataFrame([(np.random.uniform(-180,180),np.random.uniform(-90,90)) for _ in range(50)])\n",
    "    \n",
    "    edges = (center['Long'].values[0] - buffer, center['Long'].values[0] + buffer, center['Lat'].values[0] - buffer, center['Lat'].values[0] + buffer)\n",
    "    \n",
    "    xlim = np.append(np.arange(edges[0],edges[1],step=2.5),edges[1])\n",
    "    ylim = np.append(np.arange(edges[2],edges[3],step=2.5),edges[3])\n",
    "    \n",
    "    fig, ax = plt.subplots(figsize=(30,15))\n",
    "    m = Basemap()\n",
    "    m.readshapefile(shp_file, 'world',linewidth=1)\n",
    "    \n",
    "    if len(subset) != 0:\n",
    "        #plt.scatter(subset['group_lon'],subset['group_lat'],c=subset['labels'],cmap=cmap)\n",
    "        m.scatter(subset['group_lon'],subset['group_lat'],c=subset['labels'],cmap=cmap)\n",
    "    #m.plot(subset['group_lon'],subset['group_lat'],linestyle='none', marker=\"o\", markersize=5, alpha=1, c=\"yellow\", markeredgecolor=\"black\", markeredgewidth=1,zorder=5)\n",
    "    m.plot(center['Long'],center['Lat'],linestyle='none', marker=\"o\", markersize=10, alpha=1, c=\"red\", markeredgecolor=\"black\", markeredgewidth=1,zorder=5)\n",
    "    \n",
    "    plt.title(f\"Hurricane Dorian : {date}\")\n",
    "    ax.set_xticks(xlim)\n",
    "    ax.set_yticks(ylim)\n",
    "    ax.set_xlim(edges[0],edges[1])\n",
    "    ax.set_ylim(edges[2],edges[3])\n",
    "    ax.xaxis.set_major_formatter(ticker.FormatStrFormatter('%.2f'))\n",
    "    ax.yaxis.set_major_formatter(ticker.FormatStrFormatter('%.2f'))\n",
    "    \n",
    "    \n",
    "    plt.savefig(f\"./Dorian_Images_2/{index}\",bbox_inches='tight',pad_inches=.4) \n",
    "    plt.close('all')\n",
    "    \n",
    "    taken = time.perf_counter() - starttime\n",
    "    print(f\"Percent Done: {(index + 1) / len(dates) * 100 : .2f}%\\tTime taken: {taken : .2f} seconds\\tEst time remaining: {datetime.timedelta(seconds=(len(dates) - (index + 1)) * taken)} {len(subset)}\",end='\\r')"
   ]
  },
  {
   "cell_type": "code",
   "execution_count": 15,
   "metadata": {},
   "outputs": [
    {
     "name": "stdout",
     "output_type": "stream",
     "text": [
      " 35.86%\r"
     ]
    },
    {
     "ename": "KeyboardInterrupt",
     "evalue": "",
     "output_type": "error",
     "traceback": [
      "\u001b[1;31m---------------------------------------------------------------------------\u001b[0m",
      "\u001b[1;31mKeyboardInterrupt\u001b[0m                         Traceback (most recent call last)",
      "\u001b[1;32m<ipython-input-15-51786a6c3789>\u001b[0m in \u001b[0;36m<module>\u001b[1;34m\u001b[0m\n\u001b[0;32m     25\u001b[0m             \u001b[0mfcm\u001b[0m \u001b[1;33m=\u001b[0m \u001b[0mFCM\u001b[0m\u001b[1;33m.\u001b[0m\u001b[0mFCM\u001b[0m\u001b[1;33m(\u001b[0m\u001b[0msubset\u001b[0m\u001b[1;33m[\u001b[0m\u001b[1;33m[\u001b[0m\u001b[1;34m'group_lon'\u001b[0m\u001b[1;33m,\u001b[0m\u001b[1;34m'group_lat'\u001b[0m\u001b[1;33m]\u001b[0m\u001b[1;33m]\u001b[0m\u001b[1;33m,\u001b[0m\u001b[0mnum_cents\u001b[0m\u001b[1;33m,\u001b[0m\u001b[1;36m2\u001b[0m\u001b[1;33m,\u001b[0m\u001b[0mmaxiter\u001b[0m\u001b[1;33m=\u001b[0m\u001b[1;36m10\u001b[0m\u001b[1;33m,\u001b[0m\u001b[0mgenCentroids\u001b[0m\u001b[1;33m=\u001b[0m\u001b[0mprevCents\u001b[0m\u001b[1;33m)\u001b[0m\u001b[1;33m\u001b[0m\u001b[1;33m\u001b[0m\u001b[0m\n\u001b[0;32m     26\u001b[0m \u001b[1;33m\u001b[0m\u001b[0m\n\u001b[1;32m---> 27\u001b[1;33m         \u001b[0mcents\u001b[0m \u001b[1;33m=\u001b[0m \u001b[0mfcm\u001b[0m\u001b[1;33m.\u001b[0m\u001b[0mfit\u001b[0m\u001b[1;33m(\u001b[0m\u001b[1;33m)\u001b[0m\u001b[1;33m\u001b[0m\u001b[1;33m\u001b[0m\u001b[0m\n\u001b[0m\u001b[0;32m     28\u001b[0m         \u001b[0mprevCents\u001b[0m \u001b[1;33m=\u001b[0m \u001b[0mcents\u001b[0m\u001b[1;33m.\u001b[0m\u001b[0mcopy\u001b[0m\u001b[1;33m(\u001b[0m\u001b[1;33m)\u001b[0m\u001b[1;33m\u001b[0m\u001b[1;33m\u001b[0m\u001b[0m\n\u001b[0;32m     29\u001b[0m         \u001b[0msubset\u001b[0m\u001b[1;33m[\u001b[0m\u001b[1;34m'C'\u001b[0m\u001b[1;33m]\u001b[0m \u001b[1;33m=\u001b[0m \u001b[0mfcm\u001b[0m\u001b[1;33m.\u001b[0m\u001b[0mclassify\u001b[0m\u001b[1;33m(\u001b[0m\u001b[1;33m)\u001b[0m\u001b[1;33m\u001b[0m\u001b[1;33m\u001b[0m\u001b[0m\n",
      "\u001b[1;32m~\\Anaconda3\\envs\\glmval\\lib\\site-packages\\squeemtools\\math\\FCM.py\u001b[0m in \u001b[0;36mfit\u001b[1;34m(self)\u001b[0m\n\u001b[0;32m     69\u001b[0m                     \u001b[0msumden\u001b[0m \u001b[1;33m=\u001b[0m \u001b[1;36m0\u001b[0m\u001b[1;33m\u001b[0m\u001b[1;33m\u001b[0m\u001b[0m\n\u001b[0;32m     70\u001b[0m                     \u001b[1;32mfor\u001b[0m \u001b[0mk\u001b[0m \u001b[1;32min\u001b[0m \u001b[0mrange\u001b[0m\u001b[1;33m(\u001b[0m\u001b[0mself\u001b[0m\u001b[1;33m.\u001b[0m\u001b[0m_n\u001b[0m\u001b[1;33m)\u001b[0m\u001b[1;33m:\u001b[0m\u001b[1;33m\u001b[0m\u001b[1;33m\u001b[0m\u001b[0m\n\u001b[1;32m---> 71\u001b[1;33m                         \u001b[0msumnum\u001b[0m \u001b[1;33m+=\u001b[0m \u001b[1;33m(\u001b[0m\u001b[0mself\u001b[0m\u001b[1;33m.\u001b[0m\u001b[0m_A\u001b[0m\u001b[1;33m[\u001b[0m\u001b[0mk\u001b[0m\u001b[1;33m,\u001b[0m\u001b[0mi\u001b[0m\u001b[1;33m]\u001b[0m \u001b[1;33m**\u001b[0m \u001b[0mself\u001b[0m\u001b[1;33m.\u001b[0m\u001b[0m_m\u001b[0m\u001b[1;33m)\u001b[0m \u001b[1;33m*\u001b[0m \u001b[0mself\u001b[0m\u001b[1;33m.\u001b[0m\u001b[0m_data\u001b[0m\u001b[1;33m.\u001b[0m\u001b[0miloc\u001b[0m\u001b[1;33m[\u001b[0m\u001b[0mk\u001b[0m\u001b[1;33m]\u001b[0m\u001b[1;33m.\u001b[0m\u001b[0mvalues\u001b[0m \u001b[1;31m#parameter m\u001b[0m\u001b[1;33m\u001b[0m\u001b[1;33m\u001b[0m\u001b[0m\n\u001b[0m\u001b[0;32m     72\u001b[0m                         \u001b[0msumden\u001b[0m \u001b[1;33m+=\u001b[0m \u001b[0mself\u001b[0m\u001b[1;33m.\u001b[0m\u001b[0m_A\u001b[0m\u001b[1;33m[\u001b[0m\u001b[0mk\u001b[0m\u001b[1;33m,\u001b[0m\u001b[0mi\u001b[0m\u001b[1;33m]\u001b[0m \u001b[1;33m**\u001b[0m \u001b[0mself\u001b[0m\u001b[1;33m.\u001b[0m\u001b[0m_m\u001b[0m \u001b[1;31m#parameter m\u001b[0m\u001b[1;33m\u001b[0m\u001b[1;33m\u001b[0m\u001b[0m\n\u001b[0;32m     73\u001b[0m                     \u001b[0mself\u001b[0m\u001b[1;33m.\u001b[0m\u001b[0m_centroids\u001b[0m\u001b[1;33m.\u001b[0m\u001b[0miloc\u001b[0m\u001b[1;33m[\u001b[0m\u001b[0mi\u001b[0m\u001b[1;33m]\u001b[0m \u001b[1;33m=\u001b[0m \u001b[0msumnum\u001b[0m\u001b[1;33m/\u001b[0m\u001b[0msumden\u001b[0m\u001b[1;33m\u001b[0m\u001b[1;33m\u001b[0m\u001b[0m\n",
      "\u001b[1;31mKeyboardInterrupt\u001b[0m: "
     ]
    }
   ],
   "source": [
    "buffer = 2.5\n",
    "num_cents = 12\n",
    "prevCents = pd.DataFrame(np.nan,index=[x for x in range(num_cents)],columns=['Long','Lat'])\n",
    "number_images = len(dates)\n",
    "\n",
    "for index,date in enumerate(dates):\n",
    "    subset = dp[(dp['group_time_offset'] >= date) & (dp['group_time_offset'] < date + datetime.timedelta(minutes=10))].copy()\n",
    "    center = dorian_center[dorian_center['Date'] == date]\n",
    "\n",
    "    edges = (center['Long'].values[0] - 5, center['Long'].values[0] + 5, center['Lat'].values[0] - 5, center['Lat'].values[0] + 5)\n",
    "\n",
    "    fig = plt.figure(figsize=(30,15))\n",
    "    m = BM.CreateMapBackground(edges,buffer)\n",
    "    \n",
    "    #Plot ticks for lat/long\n",
    "    plt.xticks([round(x,2) for x in np.arange(edges[0],edges[1],step=5)])\n",
    "    plt.yticks([round(x,2) for x in np.arange(edges[2],edges[3],step=5)])\n",
    "    #Title the map 2017:month:day::hour:minute\n",
    "    plt.title(f\"{date}\")\n",
    "    \n",
    "    if(len(subset) != 0):\n",
    "        if prevCents.isnull().values.any() or prevCents.duplicated().values.any():\n",
    "            fcm = FCM.FCM(subset[['group_lon','group_lat']],num_cents,2,maxiter=10,genCentroids=True)\n",
    "        else:\n",
    "            fcm = FCM.FCM(subset[['group_lon','group_lat']],num_cents,2,maxiter=10,genCentroids=prevCents)\n",
    "\n",
    "        cents = fcm.fit()\n",
    "        prevCents = cents.copy()\n",
    "        subset['C'] = fcm.classify()\n",
    "\n",
    "        # Plot all of the centroids\n",
    "        if not cents.isnull().values.any():  m.scatter(cents['group_lon'],cents['group_lat'],marker='*',c=cents.index/num_cents,s=90,cmap='Paired',edgecolors='black',linewidths=1,zorder=4)\n",
    "        # Plot all of the points\n",
    "        if not subset.isnull().values.any():  m.scatter(subset['group_lon'],subset['group_lat'],c=subset['C']/num_cents,cmap='Paired',s=45,edgecolors='black',linewidths=1,zorder=3)\n",
    "\n",
    "    m.plot(center['Long'], center['Lat'], linestyle='none', marker=\"o\", markersize=20, alpha=1, c=\"yellow\", markeredgecolor=\"black\", markeredgewidth=1,zorder=2)\n",
    "\n",
    "    subset = pd.DataFrame(None)\n",
    "    plt.savefig(f\"./Dorian_Images/{index}\",bbox_inches='tight')\n",
    "    plt.close(fig)\n",
    "    \n",
    "    print(f\"{(index + 1) / number_images * 100 : .2f}%\",end='\\r')"
   ]
  },
  {
   "cell_type": "code",
   "execution_count": 269,
   "metadata": {},
   "outputs": [
    {
     "data": {
      "image/png": "[encoded data removed]",
      "text/plain": [
       "<Figure size 720x720 with 1 Axes>"
      ]
     },
     "metadata": {
      "needs_background": "light"
     },
     "output_type": "display_data"
    }
   ],
   "source": [
    "date = pd.to_datetime(\"2019-09-01 20:00:00\")\n",
    "subset = dp[(dp['group_time_offset'] >= date) & (dp['group_time_offset'] < date + datetime.timedelta(minutes=10))].copy()\n",
    "dbscan = DBSCAN(eps=.12,min_samples=2)\n",
    "subset['labels'] = dbscan.fit_predict(subset[['group_lon','group_lat']])\n",
    "centers = subset.groupby('labels').mean()[['group_lon','group_lat']]\n",
    "\n",
    "cmap = 'gist_ncar'\n",
    "#cmap = 'nipy_spectral'\n",
    "fig = plt.figure(figsize=(10,10))\n",
    "plt.scatter(subset['group_lon'],subset['group_lat'],c=subset['labels'],cmap=cmap)\n",
    "plt.show()"
   ]
  },
  {
   "cell_type": "code",
   "execution_count": 283,
   "metadata": {},
   "outputs": [],
   "source": [
    "def find_nearest(array, value):\n",
    "    array = np.asarray(array)\n",
    "    closest = min(array, key=lambda x: np.linalg.norm(x - value))\n",
    "    return closest\n",
    "\n",
    "def relabel(x,past_centers):\n",
    "    if x['labels'] != -1 and x['labels'] < len(past_centers) - 1:\n",
    "        new_label = find_nearest(past_centers,x[['group_lon','group_lat']]).tolist()\n",
    "        return past_centers.tolist().index(new_label)\n",
    "    else:\n",
    "        return x['labels']"
   ]
  },
  {
   "cell_type": "code",
   "execution_count": 275,
   "metadata": {},
   "outputs": [
    {
     "data": {
      "image/png": "[encoded data removed]",
      "text/plain": [
       "<Figure size 720x720 with 1 Axes>"
      ]
     },
     "metadata": {
      "needs_background": "light"
     },
     "output_type": "display_data"
    },
    {
     "name": "stdout",
     "output_type": "stream",
     "text": [
      "Wall time: 1min 13s\n"
     ]
    }
   ],
   "source": [
    "%%time\n",
    "date = pd.to_datetime(\"2019-09-01 20:10:00\")\n",
    "subset = dp[(dp['group_time_offset'] >= date) & (dp['group_time_offset'] < date + datetime.timedelta(minutes=10))].copy()\n",
    "dbscan = DBSCAN(eps=.12,min_samples=2)\n",
    "subset['labels'] = dbscan.fit_predict(subset[['group_lon','group_lat']])\n",
    "if centers is not None:\n",
    "    subset['labels'] = subset.apply(relabel,axis=1,past_centers=centers.values)\n",
    "centers = subset.groupby('labels').mean()[['group_lon','group_lat']]\n",
    "\n",
    "cmap = 'gist_ncar'\n",
    "fig = plt.figure(figsize=(10,10))\n",
    "plt.scatter(subset['group_lon'],subset['group_lat'],c=subset['labels'],cmap=cmap)\n",
    "plt.show()"
   ]
  },
  {
   "cell_type": "code",
   "execution_count": 276,
   "metadata": {},
   "outputs": [
    {
     "data": {
      "text/html": [
       "<div>\n",
       "<style scoped>\n",
       "    .dataframe tbody tr th:only-of-type {\n",
       "        vertical-align: middle;\n",
       "    }\n",
       "\n",
       "    .dataframe tbody tr th {\n",
       "        vertical-align: top;\n",
       "    }\n",
       "\n",
       "    .dataframe thead th {\n",
       "        text-align: right;\n",
       "    }\n",
       "</style>\n",
       "<table border=\"1\" class=\"dataframe\">\n",
       "  <thead>\n",
       "    <tr style=\"text-align: right;\">\n",
       "      <th></th>\n",
       "      <th>group_energy</th>\n",
       "      <th>group_area</th>\n",
       "      <th>group_id</th>\n",
       "      <th>group_time_offset</th>\n",
       "      <th>group_lat</th>\n",
       "      <th>group_lon</th>\n",
       "      <th>labels</th>\n",
       "    </tr>\n",
       "    <tr>\n",
       "      <th>number_of_groups</th>\n",
       "      <th></th>\n",
       "      <th></th>\n",
       "      <th></th>\n",
       "      <th></th>\n",
       "      <th></th>\n",
       "      <th></th>\n",
       "      <th></th>\n",
       "    </tr>\n",
       "  </thead>\n",
       "  <tbody>\n",
       "    <tr>\n",
       "      <th>768</th>\n",
       "      <td>0.000006</td>\n",
       "      <td>132.763611</td>\n",
       "      <td>912493578</td>\n",
       "      <td>2019-09-01 20:10:01.105135440</td>\n",
       "      <td>26.771423</td>\n",
       "      <td>-77.337547</td>\n",
       "      <td>2</td>\n",
       "    </tr>\n",
       "    <tr>\n",
       "      <th>769</th>\n",
       "      <td>0.000003</td>\n",
       "      <td>66.381805</td>\n",
       "      <td>912493605</td>\n",
       "      <td>2019-09-01 20:10:01.132983207</td>\n",
       "      <td>26.771385</td>\n",
       "      <td>-77.373520</td>\n",
       "      <td>2</td>\n",
       "    </tr>\n",
       "    <tr>\n",
       "      <th>770</th>\n",
       "      <td>0.000006</td>\n",
       "      <td>132.763611</td>\n",
       "      <td>912493660</td>\n",
       "      <td>2019-09-01 20:10:01.184482574</td>\n",
       "      <td>26.771357</td>\n",
       "      <td>-77.330223</td>\n",
       "      <td>2</td>\n",
       "    </tr>\n",
       "    <tr>\n",
       "      <th>771</th>\n",
       "      <td>0.000003</td>\n",
       "      <td>66.381805</td>\n",
       "      <td>912493678</td>\n",
       "      <td>2019-09-01 20:10:01.206608295</td>\n",
       "      <td>26.771469</td>\n",
       "      <td>-77.373421</td>\n",
       "      <td>2</td>\n",
       "    </tr>\n",
       "    <tr>\n",
       "      <th>772</th>\n",
       "      <td>0.000003</td>\n",
       "      <td>66.381805</td>\n",
       "      <td>912493701</td>\n",
       "      <td>2019-09-01 20:10:01.242085456</td>\n",
       "      <td>26.771507</td>\n",
       "      <td>-77.373474</td>\n",
       "      <td>2</td>\n",
       "    </tr>\n",
       "    <tr>\n",
       "      <th>...</th>\n",
       "      <td>...</td>\n",
       "      <td>...</td>\n",
       "      <td>...</td>\n",
       "      <td>...</td>\n",
       "      <td>...</td>\n",
       "      <td>...</td>\n",
       "      <td>...</td>\n",
       "    </tr>\n",
       "    <tr>\n",
       "      <th>7115</th>\n",
       "      <td>0.000011</td>\n",
       "      <td>133.831833</td>\n",
       "      <td>912787480</td>\n",
       "      <td>2019-09-01 20:19:55.035480499</td>\n",
       "      <td>26.795233</td>\n",
       "      <td>-81.949066</td>\n",
       "      <td>24</td>\n",
       "    </tr>\n",
       "    <tr>\n",
       "      <th>7116</th>\n",
       "      <td>0.000011</td>\n",
       "      <td>133.831833</td>\n",
       "      <td>912787483</td>\n",
       "      <td>2019-09-01 20:19:55.037769317</td>\n",
       "      <td>26.795238</td>\n",
       "      <td>-81.950760</td>\n",
       "      <td>24</td>\n",
       "    </tr>\n",
       "    <tr>\n",
       "      <th>7117</th>\n",
       "      <td>0.000006</td>\n",
       "      <td>133.831833</td>\n",
       "      <td>912787487</td>\n",
       "      <td>2019-09-01 20:19:55.043491363</td>\n",
       "      <td>26.795353</td>\n",
       "      <td>-81.962952</td>\n",
       "      <td>24</td>\n",
       "    </tr>\n",
       "    <tr>\n",
       "      <th>9044</th>\n",
       "      <td>0.000035</td>\n",
       "      <td>782.694885</td>\n",
       "      <td>912789372</td>\n",
       "      <td>2019-09-01 20:19:58.976123809</td>\n",
       "      <td>25.943830</td>\n",
       "      <td>-81.314789</td>\n",
       "      <td>6</td>\n",
       "    </tr>\n",
       "    <tr>\n",
       "      <th>9045</th>\n",
       "      <td>0.000002</td>\n",
       "      <td>71.112465</td>\n",
       "      <td>912789414</td>\n",
       "      <td>2019-09-01 20:19:59.071491241</td>\n",
       "      <td>25.875351</td>\n",
       "      <td>-81.365181</td>\n",
       "      <td>6</td>\n",
       "    </tr>\n",
       "  </tbody>\n",
       "</table>\n",
       "<p>7403 rows × 7 columns</p>\n",
       "</div>"
      ],
      "text/plain": [
       "                  group_energy  group_area   group_id  \\\n",
       "number_of_groups                                        \n",
       "768                   0.000006  132.763611  912493578   \n",
       "769                   0.000003   66.381805  912493605   \n",
       "770                   0.000006  132.763611  912493660   \n",
       "771                   0.000003   66.381805  912493678   \n",
       "772                   0.000003   66.381805  912493701   \n",
       "...                        ...         ...        ...   \n",
       "7115                  0.000011  133.831833  912787480   \n",
       "7116                  0.000011  133.831833  912787483   \n",
       "7117                  0.000006  133.831833  912787487   \n",
       "9044                  0.000035  782.694885  912789372   \n",
       "9045                  0.000002   71.112465  912789414   \n",
       "\n",
       "                             group_time_offset  group_lat  group_lon  labels  \n",
       "number_of_groups                                                              \n",
       "768              2019-09-01 20:10:01.105135440  26.771423 -77.337547       2  \n",
       "769              2019-09-01 20:10:01.132983207  26.771385 -77.373520       2  \n",
       "770              2019-09-01 20:10:01.184482574  26.771357 -77.330223       2  \n",
       "771              2019-09-01 20:10:01.206608295  26.771469 -77.373421       2  \n",
       "772              2019-09-01 20:10:01.242085456  26.771507 -77.373474       2  \n",
       "...                                        ...        ...        ...     ...  \n",
       "7115             2019-09-01 20:19:55.035480499  26.795233 -81.949066      24  \n",
       "7116             2019-09-01 20:19:55.037769317  26.795238 -81.950760      24  \n",
       "7117             2019-09-01 20:19:55.043491363  26.795353 -81.962952      24  \n",
       "9044             2019-09-01 20:19:58.976123809  25.943830 -81.314789       6  \n",
       "9045             2019-09-01 20:19:59.071491241  25.875351 -81.365181       6  \n",
       "\n",
       "[7403 rows x 7 columns]"
      ]
     },
     "metadata": {},
     "output_type": "display_data"
    }
   ],
   "source": [
    "display(subset)"
   ]
  },
  {
   "cell_type": "code",
   "execution_count": 264,
   "metadata": {},
   "outputs": [
    {
     "data": {
      "text/plain": [
       "[3, 3, 3]"
      ]
     },
     "execution_count": 264,
     "metadata": {},
     "output_type": "execute_result"
    }
   ],
   "source": [
    "[3 for x in range(3)]"
   ]
  },
  {
   "cell_type": "code",
   "execution_count": null,
   "metadata": {},
   "outputs": [],
   "source": []
  }
 ],
 "metadata": {
  "kernelspec": {
   "display_name": "Python 3",
   "language": "python",
   "name": "python3"
  },
  "language_info": {
   "codemirror_mode": {
    "name": "ipython",
    "version": 3
   },
   "file_extension": ".py",
   "mimetype": "text/x-python",
   "name": "python",
   "nbconvert_exporter": "python",
   "pygments_lexer": "ipython3",
   "version": "3.6.11"
  }
 },
 "nbformat": 4,
 "nbformat_minor": 4
}
